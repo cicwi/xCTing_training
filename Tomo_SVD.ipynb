{
 "cells": [
  {
   "cell_type": "code",
   "execution_count": 67,
   "id": "e17de4f8",
   "metadata": {},
   "outputs": [],
   "source": [
    "import numpy as np\n",
    "import matplotlib.pyplot as plt\n",
    "\n",
    "from skimage.transform import radon\n",
    "from skimage.data import binary_blobs\n",
    "from skimage.draw import disk"
   ]
  },
  {
   "cell_type": "code",
   "execution_count": 86,
   "id": "bbfa692b",
   "metadata": {},
   "outputs": [],
   "source": [
    "def getK(nx,theta):\n",
    "    nd = int(np.sqrt(2)*nx)+1\n",
    "    nt = len(theta)\n",
    "    N = nx**2\n",
    "    M = nd*nt\n",
    "    K = np.zeros((M,N))\n",
    "    for i in range(nx**2):\n",
    "        ei = np.zeros(nx**2)\n",
    "        ei[i] = 1\n",
    "        K[:,i] = radon(np.reshape(ei,(nx,nx)), theta=theta, circle = False).ravel()\n",
    "    return K\n",
    "\n",
    "def getPhantom(nx, r = 0.9):\n",
    "    # mask\n",
    "    mask = np.zeros((nx,nx))\n",
    "    ii,jj = disk((nx//2,nx//2),r * (nx//2))\n",
    "    mask[ii,jj] = 1\n",
    "    \n",
    "    # binary blobs\n",
    "    u = 0.5 * np.float64(binary_blobs(length=nx, blob_size_fraction=0.5))\n",
    "    u += 0.5 * np.float64(binary_blobs(length=nx, blob_size_fraction=0.2))\n",
    "    u *= mask\n",
    "    \n",
    "    # return\n",
    "    return u.ravel()\n",
    "    \n",
    "def plot_image(u,nx):\n",
    "    \n",
    "    plt.imshow(u.reshape((nx,nx)))\n",
    "\n",
    "def plot_sinogram(f,nt):\n",
    "    nd = len(f) // nt\n",
    "    plt.imshow(f.reshape((nd,nt)))"
   ]
  },
  {
   "cell_type": "code",
   "execution_count": 93,
   "id": "880c6c40",
   "metadata": {},
   "outputs": [],
   "source": [
    "nx = 32\n",
    "nt = 32\n",
    "theta = np.linspace(0,180,nt)\n",
    "K = getK(nx,theta)\n",
    "u = getPhantom(nx)\n",
    "f = K@u"
   ]
  },
  {
   "cell_type": "code",
   "execution_count": 94,
   "id": "357eec75",
   "metadata": {},
   "outputs": [
    {
     "data": {
      "image/png": "[encoded data removed]",
      "text/plain": [
       "<Figure size 432x288 with 1 Axes>"
      ]
     },
     "metadata": {
      "needs_background": "light"
     },
     "output_type": "display_data"
    }
   ],
   "source": [
    "plot_image(u,nx)"
   ]
  },
  {
   "cell_type": "code",
   "execution_count": 95,
   "id": "acca6388",
   "metadata": {},
   "outputs": [
    {
     "data": {
      "image/png": "[encoded data removed]",
      "text/plain": [
       "<Figure size 432x288 with 1 Axes>"
      ]
     },
     "metadata": {
      "needs_background": "light"
     },
     "output_type": "display_data"
    }
   ],
   "source": [
    "plot_sinogram(f,nt)"
   ]
  },
  {
   "cell_type": "code",
   "execution_count": 96,
   "id": "cec46fc0",
   "metadata": {},
   "outputs": [
    {
     "data": {
      "text/plain": [
       "(1472, 1024)"
      ]
     },
     "execution_count": 96,
     "metadata": {},
     "output_type": "execute_result"
    }
   ],
   "source": [
    "K.shape"
   ]
  },
  {
   "cell_type": "code",
   "execution_count": null,
   "id": "1c02152b",
   "metadata": {},
   "outputs": [],
   "source": []
  }
 ],
 "metadata": {
  "kernelspec": {
   "display_name": "Python 3 (ipykernel)",
   "language": "python",
   "name": "python3"
  },
  "language_info": {
   "codemirror_mode": {
    "name": "ipython",
    "version": 3
   },
   "file_extension": ".py",
   "mimetype": "text/x-python",
   "name": "python",
   "nbconvert_exporter": "python",
   "pygments_lexer": "ipython3",
   "version": "3.8.12"
  }
 },
 "nbformat": 4,
 "nbformat_minor": 5
}
