{
 "cells": [
  {
   "cell_type": "code",
   "execution_count": null,
   "metadata": {},
   "outputs": [],
   "source": [
    "# If you are running this notebook on Google Colab, \n",
    "# uncomment the following lines and run to install ASTRA and tomosipo:\n",
    "# (This may take up to 5 minutes):\n",
    "\n",
    "# ! apt install build-essential autoconf libtool\n",
    "# ! pip install cython\n",
    "# ! git clone https://github.com/astra-toolbox/astra-toolbox.git\n",
    "# ! cd astra-toolbox/build/linux && ./autogen.sh && ./configure --with-cuda=/usr/local/cuda --with-python --with-install-type=module\n",
    "# ! cd astra-toolbox/build/linux && make install -j 4\n",
    "# ! pip install git+https://github.com/ahendriksen/tomosipo.git"
   ]
  },
  {
   "cell_type": "code",
   "execution_count": 1,
   "metadata": {},
   "outputs": [],
   "source": [
    "import numpy as np\n",
    "import matplotlib.pyplot as plt\n",
    "\n",
    "from skimage.transform import radon\n",
    "from skimage.data import binary_blobs\n",
    "from skimage.draw import disk"
   ]
  },
  {
   "cell_type": "markdown",
   "metadata": {},
   "source": [
    "The Radon transform is available in Python as `radon` in the `skimage.transform` library. To study the ill-posedness of the inverse problem, we first build an explicit matrix representation of the Radon transform in `getK`.\n",
    "\n",
    "1. Construct the matrix for `nx = 32` and plot the left and right singular vectors and singular values.\n",
    "2. Generate noisy data and apply the regularised pseudo-inverse, selecting an appropriate regularisation parameter for various noise levels\n",
    "3. Explain how regularisation both reduces noise and limits the resolution of the resulting image\n",
    "4. Can you think of a type of noise for which the usual regularisation will not work?"
   ]
  },
  {
   "cell_type": "code",
   "execution_count": 43,
   "metadata": {},
   "outputs": [],
   "source": [
    "def getK(nx):\n",
    "    \"\"\"\n",
    "    Get explicit matrix representation of the Radon transform for an nx by nx image.\n",
    "    \n",
    "    input:\n",
    "        nx - dimension of the input image\n",
    "        theta - array with angles (in degrees)\n",
    "        \n",
    "    output:\n",
    "        K - matrix of size nd*nt by nx*nx, with nd = int(np.sqrt(2)*nx)+1\n",
    "    \"\"\"\n",
    "    theta = np.linspace(0,180,nx)\n",
    "    nd = int(np.sqrt(2)*nx)+1\n",
    "    N = nx**2\n",
    "    M = nd*nx\n",
    "    K = np.zeros((M,N))\n",
    "    for i in range(nx**2):\n",
    "        ei = np.zeros(nx**2)\n",
    "        ei[i] = 1\n",
    "        K[:,i] = radon(np.reshape(ei,(nx,nx)), theta=theta, circle = False).ravel()\n",
    "    return K\n",
    "\n",
    "def getPhantom(nx, r = 0.9):\n",
    "    \"\"\"\n",
    "    Define phantom image.\n",
    "    \n",
    "    input:\n",
    "        nx - dimension of the input image\n",
    "        r - radius of phantom, optional (default = 0.9)\n",
    "    \n",
    "    output:\n",
    "        u - phantom image as 1d array of length nx*nx\n",
    "    \"\"\"\n",
    "    # mask\n",
    "    mask = np.zeros((nx,nx))\n",
    "    ii,jj = disk((nx//2,nx//2),r * (nx//2))\n",
    "    mask[ii,jj] = 1\n",
    "    \n",
    "    # binary blobs\n",
    "    u = 0.5 * np.float64(binary_blobs(length=nx, blob_size_fraction=0.5))\n",
    "    u += 0.5 * np.float64(binary_blobs(length=nx, blob_size_fraction=0.2))\n",
    "    u *= mask\n",
    "    \n",
    "    # return\n",
    "    return u.ravel()\n",
    "    \n",
    "def plot_image(u,nx):\n",
    "    \"\"\"\n",
    "    plot image\n",
    "    \"\"\"\n",
    "    fig, ax = plt.subplots()\n",
    "    \n",
    "    ax.imshow(u.reshape((nx,nx)),extent=(0,1,0,1))\n",
    "    ax.set_xlabel(r'$x$')\n",
    "    ax.set_ylabel(r'$y$')\n",
    "\n",
    "def plot_sinogram(f,nx):\n",
    "    \"\"\"\n",
    "    plot sinogram\n",
    "    \"\"\"\n",
    "    nd = len(f) // nx\n",
    "    \n",
    "    fig, ax = plt.subplots()\n",
    "    ax.imshow(f.reshape((nd,nx)),extent=(0,3.14,0,1.5))\n",
    "    ax.set_xlabel(r'$\\theta$')\n",
    "    ax.set_ylabel(r'$s$')\n",
    "    ax.set_aspect(2)"
   ]
  },
  {
   "cell_type": "code",
   "execution_count": 44,
   "metadata": {},
   "outputs": [],
   "source": [
    "# settings\n",
    "nx = 32\n",
    "\n",
    "# get matrix\n",
    "K = getK(nx)\n",
    "\n",
    "# get phantom\n",
    "u = getPhantom(nx)\n",
    "\n",
    "# generate data\n",
    "f = K@u"
   ]
  },
  {
   "cell_type": "code",
   "execution_count": 45,
   "metadata": {},
   "outputs": [
    {
     "data": {
      "image/png": "[encoded data removed]",
      "text/plain": [
       "<Figure size 432x288 with 1 Axes>"
      ]
     },
     "metadata": {
      "needs_background": "light"
     },
     "output_type": "display_data"
    }
   ],
   "source": [
    "plot_image(u,nx)"
   ]
  },
  {
   "cell_type": "code",
   "execution_count": 46,
   "metadata": {},
   "outputs": [
    {
     "data": {
      "image/png": "[encoded data removed]",
      "text/plain": [
       "<Figure size 432x288 with 1 Axes>"
      ]
     },
     "metadata": {
      "needs_background": "light"
     },
     "output_type": "display_data"
    }
   ],
   "source": [
    "plot_sinogram(f,nx)"
   ]
  }
 ],
 "metadata": {
  "kernelspec": {
   "display_name": "Python (astra)",
   "language": "python",
   "name": "astra"
  },
  "language_info": {
   "codemirror_mode": {
    "name": "ipython",
    "version": 3
   },
   "file_extension": ".py",
   "mimetype": "text/x-python",
   "name": "python",
   "nbconvert_exporter": "python",
   "pygments_lexer": "ipython3",
   "version": "3.7.9"
  }
 },
 "nbformat": 4,
 "nbformat_minor": 5
}
